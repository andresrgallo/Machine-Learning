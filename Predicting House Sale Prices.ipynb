{
 "cells": [
  {
   "cell_type": "code",
   "execution_count": 1,
   "metadata": {
    "collapsed": true
   },
   "outputs": [],
   "source": [
    "import pandas as pd\n",
    "import matplotlib as plt\n",
    "import numpy as np"
   ]
  },
  {
   "cell_type": "code",
   "execution_count": 2,
   "metadata": {
    "collapsed": false
   },
   "outputs": [],
   "source": [
    "data = pd.read_csv('AmesHousing.txt', delimiter=\"\\t\")"
   ]
  },
  {
   "cell_type": "code",
   "execution_count": 3,
   "metadata": {
    "collapsed": true
   },
   "outputs": [],
   "source": [
    "train = data.iloc[0:1460]\n",
    "test = data.iloc[1460:]"
   ]
  },
  {
   "cell_type": "code",
   "execution_count": 4,
   "metadata": {
    "collapsed": true
   },
   "outputs": [],
   "source": [
    "def transform_features(df):\n",
    "    newdf = df.drop(\"PID\")\n",
    "    #Drop columns wiht more than 25% of missing values\n",
    "    coldrop = df.isnull().sum()\n",
    "    coldrop = coldrop/len(df)    \n",
    "    coldrop = coldrop[(coldrop> 0.25)]\n",
    "    newdf = newdf.drop(coldrop.index, axis=1)\n",
    "    newdf['years_untilreno'] = newdf['Year Remod/Add'] - newdf['Year Built']\n",
    "    newdf = newdf.drop(['Year Remod/Add','Year Built'],axis=1)\n",
    "    #transform columns to categorical\n",
    "    text_cols = newdf.select_dtypes(include=['object']).columns\n",
    "    for i in text_cols:\n",
    "        newdf[i] = newdf[i].astype(\"category\")\n",
    "    # selecting columns where one of the categories represnets more than 95%\n",
    "    colstodrop = []\n",
    "    for col in text1:\n",
    "        valct = newtestdf[col].value_counts()\n",
    "    #print(valct)\n",
    "    if len(valct) > 10:\n",
    "        colstodrop.append(col)\n",
    "        for i in range(len(valct)):\n",
    "            perc = valct[i] / sum(valct)\n",
    "            if perc > 0.95:\n",
    "                colstodrop.append(col)\n",
    "    #drop above columns from text_cols\n",
    "    text_cols =text_cols.drop(colstodrop)\n",
    "    #add new columns(categories) and delete old columns   \n",
    "    for col in text_cols:\n",
    "        col_dummies = pd.get_dummies(newdf[col])\n",
    "        newdf = pd.concat([newdf, col_dummies], axis=1)\n",
    "    del newdf[col]\n",
    "    #filling missing values with the mean of the respective column\n",
    "    text_cols = text_cols.drop(colstodrop)\n",
    "    newdf = newdf.drop(text_cols,axis=1)\n",
    "    colsnum = newtestdf.select_dtypes(include=['int64','float64']).columns\n",
    "    newdf[colsnum] = newdf[colsnum].fillna(newdf.mean())        \n",
    "    return newdf"
   ]
  },
  {
   "cell_type": "code",
   "execution_count": 5,
   "metadata": {
    "collapsed": true
   },
   "outputs": [],
   "source": [
    "def select_features(train):\n",
    "    col1 = train['Gr LIv Area']\n",
    "    col2 = train['SalePrice']\n",
    "    return col1,col2"
   ]
  },
  {
   "cell_type": "code",
   "execution_count": 6,
   "metadata": {
    "collapsed": false
   },
   "outputs": [],
   "source": [
    "from sklearn.model_selection import cross_val_score, KFold\n",
    "def train_and_test(train,test):\n",
    "    data2 = select_features(train)\n",
    "    data2 = data2.drop('SalePrice')\n",
    "    kf = KFold(5, shuffle=True, random_state=1)\n",
    "    knn = KNeighborsRegressor()\n",
    "    mses = cross_val_score(knn, train[data2], train['price'], scoring='neg_mean_squared_error', cv=kf)\n",
    "    rmse = [abs(i)**0.5 for i in mses]\n",
    "    return rmse, mses\n"
   ]
  },
  {
   "cell_type": "code",
   "execution_count": 48,
   "metadata": {
    "collapsed": false
   },
   "outputs": [
    {
     "name": "stdout",
     "output_type": "stream",
     "text": [
      "['Street', 'Utilities', 'Land Slope', 'Neighborhood', 'Condition 2', 'Roof Matl', 'Exterior 1st', 'Exterior 2nd', 'Heating', 'Garage Cond']\n",
      "   Order        PID  MS SubClass  Lot Frontage  Lot Area  Overall Qual  \\\n",
      "0      1  526301100           20         141.0     31770             6   \n",
      "1      2  526350040           20          80.0     11622             5   \n",
      "2      3  526351010           20          81.0     14267             6   \n",
      "3      4  526353030           20          93.0     11160             7   \n",
      "4      5  527105010           60          74.0     13830             5   \n",
      "\n",
      "   Overall Cond  Year Built  Year Remod/Add  Mas Vnr Area    ...      \\\n",
      "0             5        1960            1960         112.0    ...       \n",
      "1             6        1961            1961           0.0    ...       \n",
      "2             6        1958            1958         108.0    ...       \n",
      "3             5        1968            1968           0.0    ...       \n",
      "4             5        1997            1998           0.0    ...       \n",
      "\n",
      "   Wood Deck SF  Open Porch SF  Enclosed Porch  3Ssn Porch  Screen Porch  \\\n",
      "0           210             62               0           0             0   \n",
      "1           140              0               0           0           120   \n",
      "2           393             36               0           0             0   \n",
      "3             0              0               0           0             0   \n",
      "4           212             34               0           0             0   \n",
      "\n",
      "   Pool Area  Misc Val  Mo Sold  Yr Sold  SalePrice  \n",
      "0          0         0        5     2010     215000  \n",
      "1          0         0        6     2010     105000  \n",
      "2          0     12500        6     2010     172000  \n",
      "3          0         0        4     2010     244000  \n",
      "4          0         0        3     2010     189900  \n",
      "\n",
      "[5 rows x 39 columns]\n"
     ]
    }
   ],
   "source": [
    "#testing code\n",
    "nullv = train.isnull().sum()\n",
    "nullv = nullv / len(train)\n",
    "nullv = nullv[nullv>0.25]\n",
    "#print(nullv)\n",
    "newtestdf = train.drop(nullv.index, axis=1)\n",
    "#print(newtestdf.columns)\n",
    "text1 = newtestdf.select_dtypes(include=['object']).columns\n",
    "#print(newtestdf.dtypes)\n",
    "for i in text1:\n",
    "    newtestdf[i] = newtestdf[i].astype('category')\n",
    "# selecting columns where one of the categories represnets more than 95%\n",
    "colstodrop = []\n",
    "for col in text1:\n",
    "    valct = newtestdf[col].value_counts()\n",
    "    #print(valct)\n",
    "    if len(valct) > 10:\n",
    "        colstodrop.append(col)\n",
    "    for i in range(len(valct)):\n",
    "        perc = valct[i] / sum(valct)\n",
    "        if perc > 0.95:\n",
    "            colstodrop.append(col)\n",
    "print(colstodrop)\n",
    "#print(text1)\n",
    "text1 = text1.drop(colstodrop)\n",
    "#print(text1)\n",
    "newtestdf = newtestdf.drop(text1,axis=1)\n",
    "#newtestdf.info()\n",
    "colsnum = newtestdf.select_dtypes(include=['int64','float64']).columns\n",
    "#print(newtestdf[colsnum].isnull().sum())\n",
    "newtestdf[colsnum] = newtestdf[colsnum].fillna(newtestdf.mean())\n",
    "#print(newtestdf[colsnum].isnull().sum())\n",
    "#numerical but no semantic meaning so can be categorized\n",
    "print(newtestdf[colsnum].head())"
   ]
  },
  {
   "cell_type": "code",
   "execution_count": null,
   "metadata": {
    "collapsed": true
   },
   "outputs": [],
   "source": []
  }
 ],
 "metadata": {
  "anaconda-cloud": {},
  "kernelspec": {
   "display_name": "Python 3",
   "language": "python",
   "name": "python3"
  },
  "language_info": {
   "codemirror_mode": {
    "name": "ipython",
    "version": 3
   },
   "file_extension": ".py",
   "mimetype": "text/x-python",
   "name": "python",
   "nbconvert_exporter": "python",
   "pygments_lexer": "ipython3",
   "version": "3.4.3"
  }
 },
 "nbformat": 4,
 "nbformat_minor": 2
}
